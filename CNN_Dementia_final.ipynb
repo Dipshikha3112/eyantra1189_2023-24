{
  "cells": [
    {
      "cell_type": "markdown",
      "id": "51cd5ab9",
      "metadata": {
        "id": "51cd5ab9"
      },
      "source": [
        "# CNN implementation on Dementia Dataset"
      ]
    },
    {
      "cell_type": "code",
      "execution_count": 7,
      "id": "c1af04a8",
      "metadata": {
        "id": "c1af04a8"
      },
      "outputs": [],
      "source": [
        "import numpy as np\n",
        "import tensorflow as tf\n",
        "from tensorflow.keras import datasets, layers, models\n",
        "import matplotlib.pyplot as plt\n",
        "from sklearn import metrics\n",
        "from sklearn.model_selection import train_test_split\n",
        "import cv2 as cv\n",
        "import os, sys"
      ]
    },
    {
      "cell_type": "code",
      "execution_count": 8,
      "id": "a821ed6a",
      "metadata": {
        "id": "a821ed6a"
      },
      "outputs": [],
      "source": [
        "path1='./Dementia Dataset/Dementia'\n",
        "path2='./Dementia Dataset/Normal'\n",
        "files1=os.listdir(path1)\n",
        "files2=os.listdir(path2)\n",
        "Num_files_N=len(files1)\n",
        "Num_files_D=len(files2)\n",
        "dataset_len=Num_files_N+Num_files_D"
      ]
    },
    {
      "cell_type": "code",
      "execution_count": 9,
      "id": "Cb99WnzJVYqd",
      "metadata": {
        "id": "Cb99WnzJVYqd"
      },
      "outputs": [],
      "source": [
        "name=path1+'/'+files1[0]\n",
        "img=cv.imread(name)\n",
        "img_gs=cv.cvtColor(img,cv.COLOR_RGB2GRAY)\n",
        "img_gs_r=cv.resize(img_gs,(100,100))"
      ]
    },
    {
      "cell_type": "code",
      "execution_count": 10,
      "id": "S8vHUIR5VfWP",
      "metadata": {
        "id": "S8vHUIR5VfWP"
      },
      "outputs": [
        {
          "data": {
            "text/plain": [
              "<matplotlib.image.AxesImage at 0x235e6189300>"
            ]
          },
          "execution_count": 10,
          "metadata": {},
          "output_type": "execute_result"
        },
        {
          "data": {
            "image/png": "[encoded data removed]",
            "text/plain": [
              "<Figure size 640x480 with 1 Axes>"
            ]
          },
          "metadata": {},
          "output_type": "display_data"
        }
      ],
      "source": [
        "plt.imshow(img_gs_r,cmap='gray')"
      ]
    },
    {
      "cell_type": "markdown",
      "id": "29252846",
      "metadata": {
        "id": "29252846"
      },
      "source": [
        "# Dataset Creation"
      ]
    },
    {
      "cell_type": "markdown",
      "id": "f7cdb862",
      "metadata": {
        "id": "f7cdb862"
      },
      "source": [
        "For every file\n",
        "\n",
        "1. Read the image\n",
        "2. Convert it to grayscale (Optional)\n",
        "3. Resize to (100,100)\n",
        "4. Preprocessing: Normalization\n",
        "5. Reshape to (100,100,1)\n",
        "6. Create the dataset"
      ]
    },
    {
      "cell_type": "code",
      "execution_count": 11,
      "id": "2ead1101",
      "metadata": {
        "colab": {
          "base_uri": "https://localhost:8080/"
        },
        "id": "2ead1101",
        "outputId": "ac15d92a-50cb-4666-a3ba-5fda0fd92dc3"
      },
      "outputs": [
        {
          "data": {
            "text/plain": [
              "(200, 100, 100, 1)"
            ]
          },
          "execution_count": 11,
          "metadata": {},
          "output_type": "execute_result"
        }
      ],
      "source": [
        "data=np.zeros((dataset_len,100,100,1))\n",
        "label=[]\n",
        "data.shape"
      ]
    },
    {
      "cell_type": "code",
      "execution_count": 12,
      "id": "24314cc2",
      "metadata": {
        "id": "24314cc2"
      },
      "outputs": [],
      "source": [
        "for i in range(Num_files_N):\n",
        "    name=path1+'/'+files1[i]\n",
        "    img=cv.imread(name)\n",
        "    img_gs=cv.cvtColor(img,cv.COLOR_RGB2GRAY)\n",
        "    img_gs=cv.resize(img_gs,(100,100))\n",
        "    img_gs=img_gs/255\n",
        "    img_gs=img_gs.reshape(100,100,1)\n",
        "    data[i,:,:]=img_gs\n",
        "    label.append('Normal')\n"
      ]
    },
    {
      "cell_type": "code",
      "execution_count": 13,
      "id": "b9df95c2",
      "metadata": {
        "id": "b9df95c2"
      },
      "outputs": [],
      "source": [
        "for i in range(Num_files_D):\n",
        "    name=path2+'/'+files2[i]\n",
        "    img=cv.imread(name)\n",
        "    img_gs=cv.cvtColor(img,cv.COLOR_RGB2GRAY)\n",
        "    img_gs=cv.resize(img_gs,(100,100))\n",
        "    img_gs=img_gs/255\n",
        "    img_gs=img_gs.reshape(100,100,1)\n",
        "    data[i+Num_files_N,:,:]=img_gs\n",
        "    label.append('Dementia')\n"
      ]
    },
    {
      "cell_type": "markdown",
      "id": "a0ee2e56",
      "metadata": {
        "id": "a0ee2e56"
      },
      "source": [
        "Label Encoding"
      ]
    },
    {
      "cell_type": "code",
      "execution_count": 14,
      "id": "ab8c94e7",
      "metadata": {
        "id": "ab8c94e7"
      },
      "outputs": [],
      "source": [
        "from sklearn.preprocessing import LabelEncoder\n",
        "le=LabelEncoder()\n",
        "lab=le.fit_transform(label)"
      ]
    },
    {
      "cell_type": "code",
      "execution_count": 15,
      "id": "2869770e",
      "metadata": {
        "id": "2869770e"
      },
      "outputs": [
        {
          "data": {
            "text/plain": [
              "['Normal',\n",
              " 'Normal',\n",
              " 'Normal',\n",
              " 'Normal',\n",
              " 'Normal',\n",
              " 'Normal',\n",
              " 'Normal',\n",
              " 'Normal',\n",
              " 'Normal',\n",
              " 'Normal',\n",
              " 'Normal',\n",
              " 'Normal',\n",
              " 'Normal',\n",
              " 'Normal',\n",
              " 'Normal',\n",
              " 'Normal',\n",
              " 'Normal',\n",
              " 'Normal',\n",
              " 'Normal',\n",
              " 'Normal',\n",
              " 'Normal',\n",
              " 'Normal',\n",
              " 'Normal',\n",
              " 'Normal',\n",
              " 'Normal',\n",
              " 'Normal',\n",
              " 'Normal',\n",
              " 'Normal',\n",
              " 'Normal',\n",
              " 'Normal',\n",
              " 'Normal',\n",
              " 'Normal',\n",
              " 'Normal',\n",
              " 'Normal',\n",
              " 'Normal',\n",
              " 'Normal',\n",
              " 'Normal',\n",
              " 'Normal',\n",
              " 'Normal',\n",
              " 'Normal',\n",
              " 'Normal',\n",
              " 'Normal',\n",
              " 'Normal',\n",
              " 'Normal',\n",
              " 'Normal',\n",
              " 'Normal',\n",
              " 'Normal',\n",
              " 'Normal',\n",
              " 'Normal',\n",
              " 'Normal',\n",
              " 'Normal',\n",
              " 'Normal',\n",
              " 'Normal',\n",
              " 'Normal',\n",
              " 'Normal',\n",
              " 'Normal',\n",
              " 'Normal',\n",
              " 'Normal',\n",
              " 'Normal',\n",
              " 'Normal',\n",
              " 'Normal',\n",
              " 'Normal',\n",
              " 'Normal',\n",
              " 'Normal',\n",
              " 'Normal',\n",
              " 'Normal',\n",
              " 'Normal',\n",
              " 'Normal',\n",
              " 'Normal',\n",
              " 'Normal',\n",
              " 'Normal',\n",
              " 'Normal',\n",
              " 'Normal',\n",
              " 'Normal',\n",
              " 'Normal',\n",
              " 'Normal',\n",
              " 'Normal',\n",
              " 'Normal',\n",
              " 'Normal',\n",
              " 'Normal',\n",
              " 'Normal',\n",
              " 'Normal',\n",
              " 'Normal',\n",
              " 'Normal',\n",
              " 'Normal',\n",
              " 'Normal',\n",
              " 'Normal',\n",
              " 'Normal',\n",
              " 'Normal',\n",
              " 'Normal',\n",
              " 'Normal',\n",
              " 'Normal',\n",
              " 'Normal',\n",
              " 'Normal',\n",
              " 'Normal',\n",
              " 'Normal',\n",
              " 'Normal',\n",
              " 'Normal',\n",
              " 'Normal',\n",
              " 'Normal',\n",
              " 'Dementia',\n",
              " 'Dementia',\n",
              " 'Dementia',\n",
              " 'Dementia',\n",
              " 'Dementia',\n",
              " 'Dementia',\n",
              " 'Dementia',\n",
              " 'Dementia',\n",
              " 'Dementia',\n",
              " 'Dementia',\n",
              " 'Dementia',\n",
              " 'Dementia',\n",
              " 'Dementia',\n",
              " 'Dementia',\n",
              " 'Dementia',\n",
              " 'Dementia',\n",
              " 'Dementia',\n",
              " 'Dementia',\n",
              " 'Dementia',\n",
              " 'Dementia',\n",
              " 'Dementia',\n",
              " 'Dementia',\n",
              " 'Dementia',\n",
              " 'Dementia',\n",
              " 'Dementia',\n",
              " 'Dementia',\n",
              " 'Dementia',\n",
              " 'Dementia',\n",
              " 'Dementia',\n",
              " 'Dementia',\n",
              " 'Dementia',\n",
              " 'Dementia',\n",
              " 'Dementia',\n",
              " 'Dementia',\n",
              " 'Dementia',\n",
              " 'Dementia',\n",
              " 'Dementia',\n",
              " 'Dementia',\n",
              " 'Dementia',\n",
              " 'Dementia',\n",
              " 'Dementia',\n",
              " 'Dementia',\n",
              " 'Dementia',\n",
              " 'Dementia',\n",
              " 'Dementia',\n",
              " 'Dementia',\n",
              " 'Dementia',\n",
              " 'Dementia',\n",
              " 'Dementia',\n",
              " 'Dementia',\n",
              " 'Dementia',\n",
              " 'Dementia',\n",
              " 'Dementia',\n",
              " 'Dementia',\n",
              " 'Dementia',\n",
              " 'Dementia',\n",
              " 'Dementia',\n",
              " 'Dementia',\n",
              " 'Dementia',\n",
              " 'Dementia',\n",
              " 'Dementia',\n",
              " 'Dementia',\n",
              " 'Dementia',\n",
              " 'Dementia',\n",
              " 'Dementia',\n",
              " 'Dementia',\n",
              " 'Dementia',\n",
              " 'Dementia',\n",
              " 'Dementia',\n",
              " 'Dementia',\n",
              " 'Dementia',\n",
              " 'Dementia',\n",
              " 'Dementia',\n",
              " 'Dementia',\n",
              " 'Dementia',\n",
              " 'Dementia',\n",
              " 'Dementia',\n",
              " 'Dementia',\n",
              " 'Dementia',\n",
              " 'Dementia',\n",
              " 'Dementia',\n",
              " 'Dementia',\n",
              " 'Dementia',\n",
              " 'Dementia',\n",
              " 'Dementia',\n",
              " 'Dementia',\n",
              " 'Dementia',\n",
              " 'Dementia',\n",
              " 'Dementia',\n",
              " 'Dementia',\n",
              " 'Dementia',\n",
              " 'Dementia',\n",
              " 'Dementia',\n",
              " 'Dementia',\n",
              " 'Dementia',\n",
              " 'Dementia',\n",
              " 'Dementia',\n",
              " 'Dementia',\n",
              " 'Dementia',\n",
              " 'Dementia']"
            ]
          },
          "execution_count": 15,
          "metadata": {},
          "output_type": "execute_result"
        }
      ],
      "source": [
        "label"
      ]
    },
    {
      "cell_type": "code",
      "execution_count": 16,
      "id": "1af2bd04",
      "metadata": {
        "id": "1af2bd04"
      },
      "outputs": [
        {
          "data": {
            "text/plain": [
              "array([1, 1, 1, 1, 1, 1, 1, 1, 1, 1, 1, 1, 1, 1, 1, 1, 1, 1, 1, 1, 1, 1,\n",
              "       1, 1, 1, 1, 1, 1, 1, 1, 1, 1, 1, 1, 1, 1, 1, 1, 1, 1, 1, 1, 1, 1,\n",
              "       1, 1, 1, 1, 1, 1, 1, 1, 1, 1, 1, 1, 1, 1, 1, 1, 1, 1, 1, 1, 1, 1,\n",
              "       1, 1, 1, 1, 1, 1, 1, 1, 1, 1, 1, 1, 1, 1, 1, 1, 1, 1, 1, 1, 1, 1,\n",
              "       1, 1, 1, 1, 1, 1, 1, 1, 1, 1, 1, 1, 0, 0, 0, 0, 0, 0, 0, 0, 0, 0,\n",
              "       0, 0, 0, 0, 0, 0, 0, 0, 0, 0, 0, 0, 0, 0, 0, 0, 0, 0, 0, 0, 0, 0,\n",
              "       0, 0, 0, 0, 0, 0, 0, 0, 0, 0, 0, 0, 0, 0, 0, 0, 0, 0, 0, 0, 0, 0,\n",
              "       0, 0, 0, 0, 0, 0, 0, 0, 0, 0, 0, 0, 0, 0, 0, 0, 0, 0, 0, 0, 0, 0,\n",
              "       0, 0, 0, 0, 0, 0, 0, 0, 0, 0, 0, 0, 0, 0, 0, 0, 0, 0, 0, 0, 0, 0,\n",
              "       0, 0], dtype=int64)"
            ]
          },
          "execution_count": 16,
          "metadata": {},
          "output_type": "execute_result"
        }
      ],
      "source": [
        "lab"
      ]
    },
    {
      "cell_type": "markdown",
      "id": "3536af9f",
      "metadata": {
        "id": "3536af9f"
      },
      "source": [
        "Train and test dataset spilt"
      ]
    },
    {
      "cell_type": "code",
      "execution_count": 17,
      "id": "0e55f94c",
      "metadata": {
        "id": "0e55f94c"
      },
      "outputs": [],
      "source": [
        "train_images,test_images,train_labels,test_labels=train_test_split(data,lab,test_size=0.2, random_state=1)"
      ]
    },
    {
      "cell_type": "code",
      "execution_count": 18,
      "id": "a41742ca",
      "metadata": {
        "id": "a41742ca"
      },
      "outputs": [
        {
          "data": {
            "text/plain": [
              "array([0, 0, 0, 1, 1, 1, 0, 1, 0, 0, 1, 0, 0, 1, 1, 0, 0, 0, 0, 0, 0, 1,\n",
              "       1, 1, 1, 1, 0, 0, 1, 1, 1, 1, 0, 0, 0, 0, 1, 0, 1, 0, 0, 1, 1, 0,\n",
              "       0, 1, 1, 0, 0, 1, 1, 1, 0, 0, 0, 0, 0, 0, 0, 0, 1, 1, 1, 0, 1, 1,\n",
              "       1, 0, 1, 0, 1, 0, 1, 1, 1, 0, 1, 0, 1, 1, 1, 1, 0, 0, 0, 1, 0, 0,\n",
              "       0, 1, 1, 1, 0, 0, 0, 1, 0, 1, 0, 0, 0, 0, 0, 0, 1, 1, 1, 0, 0, 1,\n",
              "       1, 1, 1, 1, 1, 1, 0, 1, 0, 0, 0, 1, 0, 0, 0, 1, 1, 0, 1, 1, 1, 1,\n",
              "       1, 1, 0, 0, 1, 1, 1, 1, 0, 0, 0, 0, 0, 0, 1, 0, 1, 0, 1, 0, 0, 0,\n",
              "       1, 0, 0, 1, 0, 1], dtype=int64)"
            ]
          },
          "execution_count": 18,
          "metadata": {},
          "output_type": "execute_result"
        }
      ],
      "source": [
        "train_labels"
      ]
    },
    {
      "cell_type": "code",
      "execution_count": 19,
      "id": "001342f9",
      "metadata": {
        "colab": {
          "base_uri": "https://localhost:8080/"
        },
        "id": "001342f9",
        "outputId": "063d2e3e-f0d9-49fa-adff-058726977df2"
      },
      "outputs": [
        {
          "name": "stdout",
          "output_type": "stream",
          "text": [
            "Train Dataset Size: 160\n",
            "Test Dataset Size: 40\n"
          ]
        }
      ],
      "source": [
        "print('Train Dataset Size:',np.size(train_labels))\n",
        "print('Test Dataset Size:',np.size(test_labels))"
      ]
    },
    {
      "cell_type": "code",
      "execution_count": 20,
      "id": "b9796106",
      "metadata": {
        "colab": {
          "base_uri": "https://localhost:8080/"
        },
        "id": "b9796106",
        "outputId": "45a22b1f-150f-4f18-921b-5066334a8c3c"
      },
      "outputs": [
        {
          "data": {
            "text/plain": [
              "(array([0, 1], dtype=int64), array([17, 23], dtype=int64))"
            ]
          },
          "execution_count": 20,
          "metadata": {},
          "output_type": "execute_result"
        }
      ],
      "source": [
        "np.unique(test_labels,return_counts=True)"
      ]
    },
    {
      "cell_type": "markdown",
      "id": "33a6d409",
      "metadata": {
        "id": "33a6d409"
      },
      "source": [
        "# Define the CNN architecture"
      ]
    },
    {
      "cell_type": "markdown",
      "id": "73ab126f",
      "metadata": {
        "id": "73ab126f"
      },
      "source": [
        "Create the convolutional base\n",
        "\n",
        "1. Convolutional : 32 filters 3x3\n",
        "2. Maxpooling: 2x2\n",
        "3. Convolutional : 64 filters 5x5\n",
        "4. Convolutional : 32 filters 3x3\n",
        "5. Maxpooling: 3x3\n"
      ]
    },
    {
      "cell_type": "code",
      "execution_count": 21,
      "id": "01322894",
      "metadata": {
        "id": "01322894"
      },
      "outputs": [],
      "source": [
        "network=models.Sequential()\n",
        "network.add(layers.Conv2D(32,(3,3),activation='relu', input_shape=(100,100,1)))\n",
        "network.add(layers.MaxPooling2D((2,2)))\n",
        "network.add(layers.Conv2D(64,(7,7),activation='relu'))\n",
        "network.add(layers.Conv2D(32,(3,3),activation='relu'))\n",
        "network.add(layers.MaxPooling2D((3,3)))"
      ]
    },
    {
      "cell_type": "markdown",
      "id": "0fa63e7a",
      "metadata": {
        "id": "0fa63e7a"
      },
      "source": [
        "Check summary of convolutional base"
      ]
    },
    {
      "cell_type": "code",
      "execution_count": 22,
      "id": "0e8ac882",
      "metadata": {
        "id": "0e8ac882"
      },
      "outputs": [
        {
          "name": "stdout",
          "output_type": "stream",
          "text": [
            "Model: \"sequential\"\n",
            "_________________________________________________________________\n",
            " Layer (type)                Output Shape              Param #   \n",
            "=================================================================\n",
            " conv2d (Conv2D)             (None, 98, 98, 32)        320       \n",
            "                                                                 \n",
            " max_pooling2d (MaxPooling2  (None, 49, 49, 32)        0         \n",
            " D)                                                              \n",
            "                                                                 \n",
            " conv2d_1 (Conv2D)           (None, 43, 43, 64)        100416    \n",
            "                                                                 \n",
            " conv2d_2 (Conv2D)           (None, 41, 41, 32)        18464     \n",
            "                                                                 \n",
            " max_pooling2d_1 (MaxPoolin  (None, 13, 13, 32)        0         \n",
            " g2D)                                                            \n",
            "                                                                 \n",
            "=================================================================\n",
            "Total params: 119200 (465.62 KB)\n",
            "Trainable params: 119200 (465.62 KB)\n",
            "Non-trainable params: 0 (0.00 Byte)\n",
            "_________________________________________________________________\n"
          ]
        }
      ],
      "source": [
        "network.summary()"
      ]
    },
    {
      "cell_type": "markdown",
      "id": "7e49eab1",
      "metadata": {
        "id": "7e49eab1"
      },
      "source": [
        "Build the classifier on top of the convolutional base"
      ]
    },
    {
      "cell_type": "code",
      "execution_count": 23,
      "id": "99a58d24",
      "metadata": {
        "id": "99a58d24"
      },
      "outputs": [],
      "source": [
        "network.add(layers.Flatten())\n",
        "network.add(layers.Dense(80,activation='relu'))\n",
        "network.add(layers.Dense(50,activation='relu'))\n",
        "network.add(layers.Dense(2,activation='softmax'))"
      ]
    },
    {
      "cell_type": "code",
      "execution_count": 24,
      "id": "7f7ba93f",
      "metadata": {
        "colab": {
          "base_uri": "https://localhost:8080/"
        },
        "id": "7f7ba93f",
        "outputId": "05c8166f-243b-4833-e933-ea31b9c09ca0"
      },
      "outputs": [
        {
          "name": "stdout",
          "output_type": "stream",
          "text": [
            "Model: \"sequential\"\n",
            "_________________________________________________________________\n",
            " Layer (type)                Output Shape              Param #   \n",
            "=================================================================\n",
            " conv2d (Conv2D)             (None, 98, 98, 32)        320       \n",
            "                                                                 \n",
            " max_pooling2d (MaxPooling2  (None, 49, 49, 32)        0         \n",
            " D)                                                              \n",
            "                                                                 \n",
            " conv2d_1 (Conv2D)           (None, 43, 43, 64)        100416    \n",
            "                                                                 \n",
            " conv2d_2 (Conv2D)           (None, 41, 41, 32)        18464     \n",
            "                                                                 \n",
            " max_pooling2d_1 (MaxPoolin  (None, 13, 13, 32)        0         \n",
            " g2D)                                                            \n",
            "                                                                 \n",
            " flatten (Flatten)           (None, 5408)              0         \n",
            "                                                                 \n",
            " dense (Dense)               (None, 80)                432720    \n",
            "                                                                 \n",
            " dense_1 (Dense)             (None, 50)                4050      \n",
            "                                                                 \n",
            " dense_2 (Dense)             (None, 2)                 102       \n",
            "                                                                 \n",
            "=================================================================\n",
            "Total params: 556072 (2.12 MB)\n",
            "Trainable params: 556072 (2.12 MB)\n",
            "Non-trainable params: 0 (0.00 Byte)\n",
            "_________________________________________________________________\n"
          ]
        }
      ],
      "source": [
        "network.summary()"
      ]
    },
    {
      "cell_type": "markdown",
      "id": "bf809688",
      "metadata": {
        "id": "bf809688"
      },
      "source": [
        "Compile and train the model"
      ]
    },
    {
      "cell_type": "code",
      "execution_count": 25,
      "id": "226df6b8",
      "metadata": {
        "id": "226df6b8"
      },
      "outputs": [],
      "source": [
        "network.compile(optimizer='sgd',loss='sparse_categorical_crossentropy',metrics=['accuracy'])"
      ]
    },
    {
      "cell_type": "code",
      "execution_count": 26,
      "id": "a02dcf5a",
      "metadata": {
        "id": "a02dcf5a"
      },
      "outputs": [
        {
          "name": "stdout",
          "output_type": "stream",
          "text": [
            "Epoch 1/5\n",
            "5/5 [==============================] - 2s 345ms/step - loss: 0.6919 - accuracy: 0.5188 - val_loss: 0.7009 - val_accuracy: 0.4250\n",
            "Epoch 2/5\n",
            "5/5 [==============================] - 1s 284ms/step - loss: 0.6902 - accuracy: 0.5188 - val_loss: 0.6997 - val_accuracy: 0.4250\n",
            "Epoch 3/5\n",
            "5/5 [==============================] - 1s 282ms/step - loss: 0.6885 - accuracy: 0.5188 - val_loss: 0.6990 - val_accuracy: 0.4250\n",
            "Epoch 4/5\n",
            "5/5 [==============================] - 1s 287ms/step - loss: 0.6874 - accuracy: 0.5188 - val_loss: 0.6975 - val_accuracy: 0.4250\n",
            "Epoch 5/5\n",
            "5/5 [==============================] - 1s 283ms/step - loss: 0.6859 - accuracy: 0.5188 - val_loss: 0.6980 - val_accuracy: 0.4250\n"
          ]
        }
      ],
      "source": [
        "trained_network=network.fit(train_images,train_labels,epochs=5,validation_data=(test_images,test_labels))"
      ]
    },
    {
      "cell_type": "code",
      "execution_count": 27,
      "id": "e5039efe",
      "metadata": {
        "id": "e5039efe"
      },
      "outputs": [
        {
          "data": {
            "text/plain": [
              "<matplotlib.legend.Legend at 0x235ebc65a50>"
            ]
          },
          "execution_count": 27,
          "metadata": {},
          "output_type": "execute_result"
        },
        {
          "data": {
            "image/png": "[encoded data removed]",
            "text/plain": [
              "<Figure size 640x480 with 1 Axes>"
            ]
          },
          "metadata": {},
          "output_type": "display_data"
        }
      ],
      "source": [
        "plt.plot(trained_network.history['accuracy'],label='Training Accuracy')\n",
        "plt.plot(trained_network.history['val_accuracy'],label='Validation Accuracy')\n",
        "plt.xlabel('Epoch')\n",
        "plt.ylabel('Accuracy')\n",
        "plt.ylim([0,1.1])\n",
        "plt.legend(loc='lower right')"
      ]
    },
    {
      "cell_type": "code",
      "execution_count": 28,
      "id": "44db3a23",
      "metadata": {
        "id": "44db3a23"
      },
      "outputs": [
        {
          "data": {
            "text/plain": [
              "<matplotlib.legend.Legend at 0x235ebc31240>"
            ]
          },
          "execution_count": 28,
          "metadata": {},
          "output_type": "execute_result"
        },
        {
          "data": {
            "image/png": "[encoded data removed]",
            "text/plain": [
              "<Figure size 640x480 with 1 Axes>"
            ]
          },
          "metadata": {},
          "output_type": "display_data"
        }
      ],
      "source": [
        "plt.plot(trained_network.history['loss'],label='Training Loss')\n",
        "plt.plot(trained_network.history['val_loss'],label='Validation Loss')\n",
        "plt.xlabel('Epoch')\n",
        "plt.ylabel('Loss')\n",
        "plt.legend(loc='upper right')"
      ]
    },
    {
      "cell_type": "markdown",
      "id": "656e1c17",
      "metadata": {
        "id": "656e1c17"
      },
      "source": [
        "Evaluate the network"
      ]
    },
    {
      "cell_type": "code",
      "execution_count": 29,
      "id": "2476b8e5",
      "metadata": {
        "id": "2476b8e5"
      },
      "outputs": [
        {
          "name": "stdout",
          "output_type": "stream",
          "text": [
            "2/2 [==============================] - 0s 19ms/step - loss: 0.6980 - accuracy: 0.4250\n"
          ]
        }
      ],
      "source": [
        "test_loss,test_acc=network.evaluate(test_images,test_labels)"
      ]
    },
    {
      "cell_type": "code",
      "execution_count": 30,
      "id": "aa6cec7b",
      "metadata": {
        "id": "aa6cec7b"
      },
      "outputs": [
        {
          "name": "stdout",
          "output_type": "stream",
          "text": [
            "2/2 [==============================] - 0s 19ms/step\n"
          ]
        }
      ],
      "source": [
        "y_predict=network.predict(test_images)"
      ]
    },
    {
      "cell_type": "code",
      "execution_count": 31,
      "id": "I8a6g2Uy2EYY",
      "metadata": {
        "id": "I8a6g2Uy2EYY"
      },
      "outputs": [
        {
          "data": {
            "text/plain": [
              "array([[0.53991765, 0.46008238],\n",
              "       [0.5256694 , 0.4743306 ],\n",
              "       [0.5264347 , 0.47356525],\n",
              "       [0.5465042 , 0.4534958 ],\n",
              "       [0.55157316, 0.4484268 ],\n",
              "       [0.53291756, 0.4670824 ],\n",
              "       [0.52985704, 0.47014296],\n",
              "       [0.5237547 , 0.47624528],\n",
              "       [0.5312203 , 0.46877977],\n",
              "       [0.5435859 , 0.45641413],\n",
              "       [0.54056245, 0.45943752],\n",
              "       [0.52933854, 0.47066143],\n",
              "       [0.54133886, 0.4586611 ],\n",
              "       [0.53485423, 0.4651458 ],\n",
              "       [0.54232055, 0.45767942],\n",
              "       [0.5387065 , 0.46129352],\n",
              "       [0.5487599 , 0.45124015],\n",
              "       [0.52396286, 0.4760371 ],\n",
              "       [0.5425283 , 0.45747176],\n",
              "       [0.53756696, 0.46243307],\n",
              "       [0.5364572 , 0.46354282],\n",
              "       [0.5387795 , 0.46122047],\n",
              "       [0.5391626 , 0.4608374 ],\n",
              "       [0.52553433, 0.4744657 ],\n",
              "       [0.5334984 , 0.4665016 ],\n",
              "       [0.54551095, 0.454489  ],\n",
              "       [0.5292593 , 0.47074062],\n",
              "       [0.53989244, 0.4601076 ],\n",
              "       [0.5391146 , 0.46088538],\n",
              "       [0.53867865, 0.46132138],\n",
              "       [0.5403908 , 0.45960924],\n",
              "       [0.542411  , 0.45758903],\n",
              "       [0.54306626, 0.45693377],\n",
              "       [0.54832476, 0.45167524],\n",
              "       [0.54011756, 0.4598824 ],\n",
              "       [0.5349365 , 0.46506354],\n",
              "       [0.5350203 , 0.4649797 ],\n",
              "       [0.5366017 , 0.46339825],\n",
              "       [0.5269448 , 0.47305524],\n",
              "       [0.54384816, 0.45615187]], dtype=float32)"
            ]
          },
          "execution_count": 31,
          "metadata": {},
          "output_type": "execute_result"
        }
      ],
      "source": [
        "y_predict"
      ]
    },
    {
      "cell_type": "code",
      "execution_count": 32,
      "id": "cb5ef5da",
      "metadata": {
        "id": "cb5ef5da"
      },
      "outputs": [],
      "source": [
        "y_pred=[]\n",
        "for val in y_predict:\n",
        "    y_pred.append(np.argmax(val))"
      ]
    },
    {
      "cell_type": "code",
      "execution_count": 33,
      "id": "r3TC5xm82KtN",
      "metadata": {
        "id": "r3TC5xm82KtN"
      },
      "outputs": [
        {
          "data": {
            "text/plain": [
              "[0,\n",
              " 0,\n",
              " 0,\n",
              " 0,\n",
              " 0,\n",
              " 0,\n",
              " 0,\n",
              " 0,\n",
              " 0,\n",
              " 0,\n",
              " 0,\n",
              " 0,\n",
              " 0,\n",
              " 0,\n",
              " 0,\n",
              " 0,\n",
              " 0,\n",
              " 0,\n",
              " 0,\n",
              " 0,\n",
              " 0,\n",
              " 0,\n",
              " 0,\n",
              " 0,\n",
              " 0,\n",
              " 0,\n",
              " 0,\n",
              " 0,\n",
              " 0,\n",
              " 0,\n",
              " 0,\n",
              " 0,\n",
              " 0,\n",
              " 0,\n",
              " 0,\n",
              " 0,\n",
              " 0,\n",
              " 0,\n",
              " 0,\n",
              " 0]"
            ]
          },
          "execution_count": 33,
          "metadata": {},
          "output_type": "execute_result"
        }
      ],
      "source": [
        "y_pred"
      ]
    },
    {
      "cell_type": "code",
      "execution_count": 34,
      "id": "51b9d88d",
      "metadata": {
        "id": "51b9d88d"
      },
      "outputs": [
        {
          "name": "stdout",
          "output_type": "stream",
          "text": [
            "[[17  0]\n",
            " [23  0]]\n"
          ]
        }
      ],
      "source": [
        "print(metrics.confusion_matrix(test_labels,y_pred))"
      ]
    },
    {
      "cell_type": "code",
      "execution_count": 35,
      "id": "cce68d11",
      "metadata": {
        "id": "cce68d11",
        "scrolled": true
      },
      "outputs": [
        {
          "name": "stdout",
          "output_type": "stream",
          "text": [
            "0.425\n"
          ]
        }
      ],
      "source": [
        "print(metrics.accuracy_score(test_labels,y_pred))"
      ]
    }
  ],
  "metadata": {
    "colab": {
      "provenance": []
    },
    "kernelspec": {
      "display_name": "Python 3 (ipykernel)",
      "language": "python",
      "name": "python3"
    },
    "language_info": {
      "codemirror_mode": {
        "name": "ipython",
        "version": 3
      },
      "file_extension": ".py",
      "mimetype": "text/x-python",
      "name": "python",
      "nbconvert_exporter": "python",
      "pygments_lexer": "ipython3",
      "version": "3.10.4"
    }
  },
  "nbformat": 4,
  "nbformat_minor": 5
}
